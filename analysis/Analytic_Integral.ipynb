{
 "cells": [
  {
   "cell_type": "markdown",
   "metadata": {},
   "source": [
    "# 0. Imports and functions definitions"
   ]
  },
  {
   "cell_type": "code",
   "execution_count": null,
   "metadata": {},
   "outputs": [],
   "source": [
    "import numpy as np\n",
    "import random, uproot, math\n",
    "import matplotlib.pyplot as plt\n",
    "from scipy import signal\n",
    "\n",
    "def solid_angle(x,y,z):#VUV case\n",
    "    return np.arctan(x*y/(z*np.sqrt(x**2 + y**2 + z**2)))\n",
    "\n",
    "def solid_angle_cos(x,y,z):\n",
    "    #Solid angle weighted by cos(theta) (difuser): ONLY FOR VISIBLE LIGHT\n",
    "    return -((z*np.arctan (y/np.sqrt(x**2 + z**2)))/(2 *np.sqrt(x**2 + z**2)))\n",
    "\n",
    "def double_integral_evaluation(function,x0,x1,y0,y1,z):\n",
    "    return (function(x1, y1, z) - function(x1, y0, z) - function(x0, y1, z) + function(x0, y0, z))\n",
    "\n",
    "def convolve_with_gaussian(arr, sigma, amplitude):\n",
    "    x = np.arange(-3*sigma, 3*sigma+1) # create a window of 3*sigma width\n",
    "    kernel = amplitude * np.exp(-0.5 * (x / sigma) ** 2) # compute the Gaussian kernel\n",
    "    kernel /= np.sum(kernel) # normalize the kernel\n",
    "    convolved = signal.convolve(arr, kernel, mode='same') # convolve the array with the kernel\n",
    "    return convolved\n"
   ]
  },
  {
   "attachments": {},
   "cell_type": "markdown",
   "metadata": {},
   "source": [
    "# 1. Analytic MC integral-method - SBND template"
   ]
  },
  {
   "cell_type": "code",
   "execution_count": null,
   "metadata": {},
   "outputs": [],
   "source": [
    "#=============================#\n",
    "##### SBND CONFIGURATION #####\n",
    "# XARAPUCA - SolidAngle #\n",
    "side1 = 37.5*2;       #mm\n",
    "side2 = 49*2;         #mm\n",
    "x0 = 0;               #mm\n",
    "x1 = side1-(37.5-27); #mm\n",
    "y0 = -side2/2;        #mm\n",
    "y1 = side2/2;         #mm\n",
    "z  = 55;              #mm\n",
    "alpha_source_rad = 11;#mm\n",
    "#=============================#\n",
    "\n",
    "angles = []; y_cords = []; z_cords = [];\n",
    "for i in range(100000):\n",
    "    r   = alpha_source_rad * math.sqrt(random.random()) # random position in the radius\n",
    "    phi = 2 * math.pi * random.random()               # random angle\n",
    "    y_corr = r * math.cos(phi) # calculate y coordinate\n",
    "    z_corr = r * math.sin(phi) # calculate z coordinate\n",
    "    y_cords.append(y_corr)\n",
    "\n",
    "    angle = double_integral_evaluation(solid_angle,x0,x1,y0-y_corr,y1-y_corr,z-z_corr)\n",
    "    angles.append(angle)\n",
    "\n",
    "XA_angles=np.array(angles)"
   ]
  },
  {
   "cell_type": "code",
   "execution_count": null,
   "metadata": {},
   "outputs": [],
   "source": [
    "#=============================#\n",
    "##### SBND CONFIGURATION #####\n",
    "# SiPM - SolidAngle #\n",
    "center = 53 - 46.3    #mm\n",
    "side = 6;             #mm\n",
    "x0 = center - side/2; #mm\n",
    "x1 = center + side/2; #mm\n",
    "y0 = -side/2;         #mm\n",
    "y1 = side2/2;         #mm\n",
    "z  = 26 + 27;         #mm\n",
    "alpha_source_rad = 11;#mm\n",
    "#=============================#\n",
    "\n",
    "angles = []; y_cords = []; x_cords = [];\n",
    "for i in range(1000000):\n",
    "    r   = alpha_source_rad * math.sqrt(random.random()) # random position in the radius\n",
    "    phi = 2 * math.pi * random.random()                 # random angle\n",
    "    x_corr = r * math.cos(phi) # calculate y coordinate\n",
    "    y_corr = r * math.sin(phi) # calculate y coordinate\n",
    "    x_cords.append(x_corr)\n",
    "    y_cords.append(y_corr)\n",
    "\n",
    "    angle = double_integral_evaluation(solid_angle,x0-x_corr,x1-x_corr,y0-y_corr,y1-y_corr,z)\n",
    "    angles.append(angle)\n",
    "\n",
    "SiPM_angles=np.array(angles)"
   ]
  },
  {
   "cell_type": "code",
   "execution_count": null,
   "metadata": {},
   "outputs": [],
   "source": [
    "plt.hist2d(x_cords,y_cords, bins=50, range=[[-11, 11], [-11, 11]], weights=SiPM_angles,cmap='inferno');\n",
    "plt.plot([x0,x0,x1,x1,x0],[y0,y1,y1,y0,y0])\n",
    "plt.colorbar()\n",
    "plt.show()"
   ]
  },
  {
   "cell_type": "markdown",
   "metadata": {},
   "source": [
    "Simulation made with SBND geometry (stored in \"pc/choozdsk01/palomare/GEANT4/192k_ev_100k_evs.root\") "
   ]
  },
  {
   "cell_type": "code",
   "execution_count": null,
   "metadata": {},
   "outputs": [],
   "source": [
    "my_file = uproot.open(\"/pc/choozdsk01/palomare/GEANT4/SBND/192k_ev_100k_evs.root\")\n",
    "sensor  = my_file[\"Hits\"][\"fsensor\"] .array().to_numpy()\n",
    "nhits   = my_file[\"Hits\"][\"acumHits\"].array().to_numpy()\n",
    "n_ph_ev = 192000;\n",
    "XA_G4   = nhits[sensor==0]/n_ph_ev\n",
    "\n",
    "plt.figure(dpi=150)\n",
    "plt.hist(XA_G4,80,[0.06,0.13],density=True,alpha=.5,label=\"G4\");\n",
    "a = plt.hist(XA_angles/(4*np.pi)*0.96,80,[0.06,0.13],density=True,alpha=.5,label=\"Analytic\");\n",
    "\n",
    "sigma = 3.0\n",
    "amplitude = 1/np.sqrt(2*np.pi*sigma**2)\n",
    "guess=convolve_with_gaussian(a[0], sigma, amplitude)\n",
    "plt.plot(a[1][:-1],guess,label=\"Analytic convolved with Gaussian\")\n",
    "plt.xlim([0.06,0.12])\n",
    "\n",
    "plt.xlabel(\"Fraction of Photons per Am241 event arriving at XARAPUCA\") \n",
    "plt.ylabel(\"Counts [density]]\") \n",
    "\n",
    "plt.legend()\n",
    "plt.show()"
   ]
  },
  {
   "cell_type": "code",
   "execution_count": null,
   "metadata": {},
   "outputs": [],
   "source": [
    "my_file = uproot.open(\"/pc/choozdsk01/palomare/GEANT4/SBND/192k_ev_100k_evs.root\")\n",
    "sensor = my_file[\"Hits\"][\"fsensor\"] .array().to_numpy()\n",
    "nhits  = my_file[\"Hits\"][\"acumHits\"].array().to_numpy()\n",
    "\n",
    "plt.hist(nhits[sensor==1], 201, [100,300], alpha=.5, label=\"SiPM1\");\n",
    "plt.hist(nhits[sensor==2], 201, [100,300], alpha=.5, label=\"SiPM2\");\n",
    "plt.semilogy()\n",
    "plt.legend()\n",
    "plt.xlabel(\"Number of photons on sensor per event\")\n",
    "plt.ylabel(\"Number of events\")\n",
    "plt.show()"
   ]
  },
  {
   "cell_type": "code",
   "execution_count": null,
   "metadata": {},
   "outputs": [],
   "source": [
    "Eff = 14.7/100\n",
    "nhits[sensor==2].mean()*Eff*2"
   ]
  },
  {
   "cell_type": "code",
   "execution_count": null,
   "metadata": {},
   "outputs": [],
   "source": [
    "plt.hist(SiPM_angles/(4*np.pi)    ,115,[0.0007,0.0013],alpha=.5,density=True,histtype=\"step\",label=\"Analytic\");\n",
    "plt.hist(nhits[sensor==1]/(1.92e5),115,[0.0007,0.0013],alpha=.5,density=True,histtype=\"step\",label=\"G4\");\n",
    "# plt.semilogy()\n",
    "plt.show()"
   ]
  },
  {
   "cell_type": "code",
   "execution_count": null,
   "metadata": {},
   "outputs": [],
   "source": [
    "efficiency = 0.145*0.7\n",
    "sen = 4\n",
    "\n",
    "z = 0; aux = np.zeros(nhits[sensor==sen].shape[0])\n",
    "for nphot in nhits[sensor==sen]:\n",
    "    dice=np.random.uniform(0,1,int(nphot))\n",
    "    measured=np.sum(dice<efficiency)\n",
    "    aux[z]=measured\n",
    "    z=z+1;\n",
    "\n",
    "\n",
    "plt.hist(aux,51,[0,50],alpha=.5,histtype=\"step\",density=True,label=\"G4 with efficiency\");\n",
    "plt.semilogy()\n",
    "\n",
    "my_file = uproot.open(\"/pc/choozdsk01/palomare/GEANT4/SBND/10k_test_only_accum.root\")\n",
    "sensor2 = my_file[\"Hits\"][\"fsensor\"]  .array().to_numpy()\n",
    "nhits2  = my_file[\"Hits\"][\"acumHits\"].array().to_numpy()\n",
    "plt.hist(nhits2[sensor2==sen],51,[0,50],alpha=.5,histtype=\"step\",density=True,label=\"G4 with efficiency\");\n",
    "plt.legend([\"192k photons/event x 10.5% eff\",\"19.2k photons/event\"],loc=\"lower right\")\n",
    "\n",
    "plt.ylabel(\"Counts [Density]\")\n",
    "plt.xlabel(\"N photons\")\n",
    "plt.title(\"SiPM \"+str(sen))\n",
    "plt.show()"
   ]
  },
  {
   "attachments": {},
   "cell_type": "markdown",
   "metadata": {},
   "source": [
    "## Analytic method - MEGACELL_v1"
   ]
  },
  {
   "cell_type": "code",
   "execution_count": null,
   "metadata": {},
   "outputs": [],
   "source": [
    "#=============================#\n",
    "##### MEGACELL_v1 CONFIGURATION #####\n",
    "# SiPM - SolidAngle #\n",
    "side1 = 6;             #mm\n",
    "side2 = 6;             #mm\n",
    "x0    = 0;             #mm\n",
    "x1    = side1;         #mm\n",
    "y0    =  - side2/2;    #mm\n",
    "y1    =  + side2/2;    #mm\n",
    "z     = 70.7;          #mm\n",
    "alpha_source_rad = 11; #mm\n",
    "#=============================#\n",
    "\n",
    "angles =[]; angles2=[]; y_cords=[]; z_cords=[];\n",
    "for i in range(1000000):\n",
    "    r = alpha_source_rad * math.sqrt(random.random())# random angle\n",
    "    phi = 2 * math.pi * random.random() # random angle\n",
    "    y_corr = r * math.cos(phi) # calculate y coordinate\n",
    "    z_corr = r * math.sin(phi) # calculate z coordinate\n",
    "\n",
    "    y_cords.append(y_corr)\n",
    "    angle=double_integral_evaluation(solid_angle,x0,x1,y0+y_corr,y1+y_corr,z-z_corr)\n",
    "    angle2=double_integral_evaluation(solid_angle,x0,x1,y0+y_corr,y1+y_corr,z+z_corr)\n",
    "    \n",
    "    angles.append(angle)\n",
    "    angles2.append(angle2)\n",
    "\n",
    "XA_angles=np.array(angles)\n",
    "XA_angles2=np.array(angles2)"
   ]
  },
  {
   "cell_type": "code",
   "execution_count": null,
   "metadata": {},
   "outputs": [],
   "source": [
    "# efficiency=.14\n",
    "\n",
    "geant4_rough =(XA_angles *10000).astype(int)\n",
    "geant4_rough2=(XA_angles2*10000).astype(int)\n",
    "# re_escaled=[np.random.poisson(N_ph*efficiency) for N_ph in geant4_rough]"
   ]
  },
  {
   "cell_type": "code",
   "execution_count": null,
   "metadata": {},
   "outputs": [],
   "source": [
    "plt.hist(geant4_rough,150,[0,150],alpha=.5,density=True,histtype=\"step\"              ,label=\"SiPM1\");\n",
    "plt.hist(geant4_rough2,150,[0,150],alpha=.5,density=True,histtype=\"step\"             ,label=\"SiPM2\");\n",
    "plt.hist(geant4_rough2+geant4_rough,200,[0,200],alpha=.5,density=True,histtype=\"step\",label=\"SiPM1+2\");\n",
    "plt.legend()\n",
    "plt.semilogy()\n",
    "plt.show()\n",
    "# plt.figure()\n",
    "# plt.hist(re_escaled,50,[0,50],alpha=.5,density=True,histtype=\"step\",label=\"Analytic\");\n",
    "\n",
    "# plt.semilogy()"
   ]
  },
  {
   "cell_type": "code",
   "execution_count": null,
   "metadata": {},
   "outputs": [],
   "source": [
    "print(e)"
   ]
  },
  {
   "attachments": {},
   "cell_type": "markdown",
   "metadata": {},
   "source": [
    "## Fit"
   ]
  },
  {
   "cell_type": "code",
   "execution_count": null,
   "metadata": {},
   "outputs": [],
   "source": [
    "charges_dec=np.load(\"alpha_source_spectrum_OV_9.npy\")\n",
    "print(np.mean(charges_dec))"
   ]
  },
  {
   "cell_type": "code",
   "execution_count": null,
   "metadata": {},
   "outputs": [],
   "source": [
    "elec_smear=0.10\n",
    "efficiency=0.0178\n",
    "sen=0\n",
    "\n",
    "\n",
    "if True:\n",
    "# if not ( ( \"aux_binom\" in locals() ) or ( \"aux_binom\" in globals() ) ):#run only once\n",
    "    aux_binom=np.zeros(nhits[sensor==sen].shape[0])\n",
    "    aux_poiss=np.zeros(nhits[sensor==sen].shape[0])\n",
    "\n",
    "    z=0\n",
    "    for nphot in nhits[sensor==sen]:\n",
    "        # ## binomial distribution for each photon. 1=detected, 0=not detected\n",
    "        # dice=np.random.uniform(0,1,int(nphot)) \n",
    "        # aux_binom[z]=np.sum(dice<efficiency)\n",
    "        \n",
    "        ## poisson distribution, faster but less accurate for low number of photons (the tails are not well reproduced)\n",
    "        lambda_ = efficiency * nphot\n",
    "        aux_poiss[z]   =np.random.poisson(lambda_)\n",
    "        z+=1;\n",
    "\n",
    "#MC\n",
    "MC=aux_poiss\n",
    "a=np.histogram(MC,200,[0,1000])\n",
    "\n",
    "np.save(\"unfolding/MC.npy\",MC)\n",
    "# a=plt.hist(MC,200,[0,1000],histtype=\"step\",weights=np.ones(aux.shape[0])*charges_dec.shape[0]/aux.shape[0],label=\"G4 montecarlo\");\n",
    "\n",
    "RANGE=100\n",
    "aux_MC=np.zeros((RANGE,a[0].shape[0]))\n",
    "plt.figure(dpi=150)\n",
    "\n",
    "for i in range(RANGE):\n",
    "    a=np.histogram(aux_poiss*np.random.normal(1, elec_smear, int(MC.shape[0])),int(200),[0,1000],weights=np.ones(aux.shape[0])*charges_dec.shape[0]/aux.shape[0]);\n",
    "    aux_MC[i,:]=a[0]\n",
    "\n",
    "# a=plt.hist(np.mean(aux_MC,axis=0),200,[0,1000],histtype=\"step\",weights=np.ones(aux.shape[0])*charges_dec.shape[0]/aux.shape[0],label=\"G4 montecarlo + 10% Gaussian uncertainty\");\n",
    "plt.plot((a[1][1:]+a[1][:-1])/2,np.mean(aux_MC,axis=0),label=\"G4 montecarlo + 10% Gaussian uncertainty\");\n",
    "#Data\n",
    "DATA=charges_dec\n",
    "np.save(\"unfolding/DATA.npy\",DATA)\n",
    "\n",
    "np.save(\"unfolding/MC_reco.npy\",[np.mean(aux_MC,axis=0) , ((a[1][1:]+a[1][:-1])/2)])\n",
    "\n",
    "b=np.histogram(DATA,200,[0,1000])\n",
    "\n",
    "plt.hist(DATA,200,[0,1000],histtype=\"step\",label=\"Data\");\n",
    "\n",
    "plt.plot(((a[1][1:]+a[1][:-1])/2)[35:80],np.mean(aux_MC,axis=0)[35:80],\"--\",color=\"tab:red\",label=\"Best fit\");\n",
    "plt.legend(loc=\"lower right\")\n",
    "plt.xlabel(\"Charge [PE]\")\n",
    "plt.ylabel(\"Counts [events]\")\n",
    "\n",
    "# plt.semilogy()\n",
    "plt.xlim([100,5e2])\n",
    "# plt.ylim([1,5e3])"
   ]
  },
  {
   "cell_type": "code",
   "execution_count": null,
   "metadata": {},
   "outputs": [],
   "source": [
    "#chi2 tests\n",
    "\n",
    "def chisq_scan(npixels=100):\n",
    "    \n",
    "    def chisq(a,b,dof=1):\n",
    "        return np.sum((a-b)**2/b)/dof\n",
    "    \n",
    "    aux_chisq=[]\n",
    "    aux_eff=[]\n",
    "\n",
    "    RANGE=100\n",
    "    elec_res=0.10\n",
    "    effi_range=np.linspace(0.0172,0.0186 ,npixels)\n",
    "\n",
    "    for efficiency in effi_range:\n",
    "\n",
    "        aux_poiss=np.zeros(nhits[sensor==sen].shape[0])\n",
    "\n",
    "        z=0\n",
    "        for nphot in nhits[sensor==sen]:\n",
    "            ## poisson distribution, faster but less accurate for low number of photons (the tails are not well reproduced)\n",
    "            lambda_ = efficiency * nphot\n",
    "            aux_poiss[z]   =np.random.poisson(lambda_)\n",
    "            z+=1;\n",
    "\n",
    "\n",
    "        aux_MC=np.zeros((RANGE,b[0].shape[0]))\n",
    "        for i in range(RANGE):\n",
    "            a=np.histogram(aux_poiss*np.random.normal(1, elec_res, int(MC.shape[0])),int(200),[0,1000],weights=np.ones(aux.shape[0])*charges_dec.shape[0]/aux.shape[0]);\n",
    "            aux_MC[i,:]=a[0]\n",
    "            \n",
    "        x=np.mean(aux_MC,axis=0) [35:80]\n",
    "        y=b[0]                   [35:80]\n",
    "        aux_chisq.append(chisq(y,x,dof=len(x)-1))\n",
    "        aux_eff.append(efficiency)\n",
    "    return np.array(aux_chisq),np.array(aux_eff)\n",
    "\n"
   ]
  },
  {
   "cell_type": "code",
   "execution_count": null,
   "metadata": {},
   "outputs": [],
   "source": [
    "aux_chisq,aux_eff=chisq_scan()"
   ]
  },
  {
   "cell_type": "code",
   "execution_count": null,
   "metadata": {},
   "outputs": [],
   "source": [
    "np.mean(DATA)"
   ]
  },
  {
   "cell_type": "code",
   "execution_count": null,
   "metadata": {},
   "outputs": [],
   "source": [
    "plt.plot(aux_eff*100,aux_chisq)\n",
    "print(aux_eff[np.argmin(aux_chisq)])\n",
    "print(aux_chisq[np.argmin(aux_chisq)])\n",
    "plt.ylabel(r\"$\\chi^2$/d.o.f.\")\n",
    "plt.xlabel(\"Efficiency [%]\")\n",
    "\n",
    "threshold=4\n",
    "minus=aux_eff[np.argmin(aux_chisq)]-aux_eff[np.min(aux_chisq)+threshold>aux_chisq][0]\n",
    "plus =aux_eff[np.min(aux_chisq)+threshold>aux_chisq][-1] - aux_eff[np.argmin(aux_chisq)]\n",
    "\n",
    "plt.text(1.75,20, r'$\\chi^2_{min}$/d.o.f. = '+str(round(aux_chisq[np.argmin(aux_chisq)],2)), fontsize=15)\n",
    "plt.text(1.75,15, r'$\\epsilon_{opt}$ = '+str(round(aux_eff[np.argmin(aux_chisq)]*100,3))+\"$\\pm$ \"+str(round((minus+plus)/2*100,3))+\"%\", fontsize=15)\n",
    "\n",
    "print(minus,plus)"
   ]
  },
  {
   "cell_type": "code",
   "execution_count": null,
   "metadata": {},
   "outputs": [],
   "source": [
    "print(aux_eff[np.argmin(aux_chisq)])\n",
    "print(aux_elec[np.argmin(aux_chisq)])ç"
   ]
  },
  {
   "cell_type": "code",
   "execution_count": null,
   "metadata": {},
   "outputs": [],
   "source": [
    "charges_dec=np.load(\"Daphne_9OV_alpha_source_spectrum.npy\")\n",
    "np.mean(charges_dec)"
   ]
  }
 ],
 "metadata": {
  "kernelspec": {
   "display_name": "Python 3",
   "language": "python",
   "name": "python3"
  },
  "language_info": {
   "codemirror_mode": {
    "name": "ipython",
    "version": 3
   },
   "file_extension": ".py",
   "mimetype": "text/x-python",
   "name": "python",
   "nbconvert_exporter": "python",
   "pygments_lexer": "ipython3",
   "version": "3.7.3"
  },
  "orig_nbformat": 4
 },
 "nbformat": 4,
 "nbformat_minor": 2
}
