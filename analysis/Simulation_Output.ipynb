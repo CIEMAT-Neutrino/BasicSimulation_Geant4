{
 "cells": [
  {
   "cell_type": "markdown",
   "metadata": {},
   "source": [
    "# 0. Imports and functions definitions"
   ]
  },
  {
   "cell_type": "code",
   "execution_count": 10,
   "metadata": {},
   "outputs": [],
   "source": [
    "import uproot, os\n",
    "import numpy             as np\n",
    "import matplotlib.pyplot as plt"
   ]
  },
  {
   "cell_type": "code",
   "execution_count": 11,
   "metadata": {},
   "outputs": [],
   "source": [
    "def extract_branches(folder,root_file,sensors,branches={\"Photons\":[\"X\",\"Y\",\"Z\",\"Phi\",\"Theta\",\"Sensor\"],\"Hits\":[\"Sensor\",\"AccumHits\"]},debug=False):\n",
    "    opened_file = uproot.open(folder+root_file)\n",
    "    branch_dict = dict.fromkeys(branches.keys())\n",
    "    my_data = dict.fromkeys([root_file]); my_data[root_file] = dict.fromkeys(sensors)\n",
    "    for k,key in enumerate(branch_dict):\n",
    "        branch_dict[key] = {}\n",
    "        for branch in branches[key]: \n",
    "            branch_dict[key][branch] = opened_file[key][branch].array().to_numpy();\n",
    "    for s,sensor in enumerate(sensors):\n",
    "        my_data[root_file][sensor] = {}\n",
    "        for k,key in enumerate(branch_dict):\n",
    "            for branch in branches[key]: \n",
    "                my_data[root_file][sensor][branch] = branch_dict[key][branch][branch_dict[key][\"Sensor\"]==s]\n",
    "    if debug: print(my_data)\n",
    "    return my_data\n",
    "\n",
    "def compute_real_angles(my_data,sensors_info,debug=False):\n",
    "    for geo_file in my_data.keys():\n",
    "        for sensor in my_data[geo_file].keys():\n",
    "            phi   = my_data[geo_file][sensor][\"Phi\"]\n",
    "            theta = my_data[geo_file][sensor][\"Theta\"]\n",
    "            \n",
    "            abs_vec = np.array([ np.sin(theta)*np.cos(phi), np.sin(theta)*np.sin(phi), np.cos(theta)])\n",
    "            norm    = np.sum(  (abs_vec.T*sensors_info[sensor][geo_file]),axis=1 )\n",
    "            inc_ang = np.arccos(norm)\n",
    "            \n",
    "            my_data[geo_file][sensor][\"vector\"]        = abs_vec\n",
    "            my_data[geo_file][sensor][\"norm\"]          = norm\n",
    "            my_data[geo_file][sensor][\"inc_ang\"]       = inc_ang\n",
    "            if   ((np.mean(inc_ang)>np.pi/2)): my_data[geo_file][sensor][\"inc_ang_fixed\"] = np.pi - inc_ang\n",
    "            else                             : my_data[geo_file][sensor][\"inc_ang_fixed\"] = inc_ang\n",
    "    if debug: print(sensors_info)\n",
    "\n",
    "def plot_angular_distributions(my_data,dpi=50):\n",
    "    fig = plt.figure(dpi=dpi)\n",
    "    for my_file in my_data.keys():\n",
    "        plt.title(my_file.replace(\".root\",\"\"))\n",
    "        for sensor in my_data[my_file]:\n",
    "            plt.hist (my_data[my_file][sensor][\"inc_ang_fixed\"]*180/np.pi,45,[0,90],alpha=.5,density=True,label=sensor)\n",
    "        plt.xlabel(\"Incident angle (°)\")\n",
    "        plt.legend()\n",
    "        plt.show()\n",
    "\n",
    "def plot_photon_density(my_data,sensors_info,dpi=50):\n",
    "    axes   = [\"X\",\"Y\",\"Z\"]\n",
    "    labels = [\"X axis\", \"Y axis\", \"Z axis\"]\n",
    "    fig = plt.figure(dpi=dpi)\n",
    "    for my_file in my_data:\n",
    "        for sensor in my_data[my_file]: \n",
    "            plt.figure()\n",
    "            plt.title(my_file.replace(\".root\",\"_\")+sensor)\n",
    "            axes2plot = list((np.abs(sensors_info[sensor][my_file])-1)*(-1))\n",
    "            axes2plot = np.where(np.array(axes2plot)==1)[0]\n",
    "            plt.hist2d(my_data[my_file][sensor][axes[axes2plot[0]]],my_data[my_file][sensor][axes[axes2plot[1]]])\n",
    "            plt.xlabel(labels[axes2plot[0]])\n",
    "            plt.ylabel(labels[axes2plot[1]])\n",
    "            plt.colorbar()\n",
    "            plt.show()\n",
    "\n",
    "def plot_acumhits(my_data,dpi=50,bins=[100,35,35],semilogy=False):\n",
    "    for my_file in my_data:\n",
    "        means = [];sensors = []\n",
    "        for s,sensor in enumerate(my_data[my_file]): mean = np.mean(my_data[my_file][sensor][\"AccumHits\"]); means.append(mean); sensors.append(sensor)\n",
    "        \n",
    "        if np.any(np.array(means/means[0]) < 0.1) or np.any(np.array(means/means[0]) > 10): \n",
    "            fig, axs = plt.subplots(1,2,sharey=True,dpi=dpi); \n",
    "            axs[1].hist(my_data[my_file][sensors[0]][\"AccumHits\"], bins[0], alpha=0.5, histtype=\"step\", color=\"C\"+str(0),label=sensors[0]+\" (Mean %0.2f)\"%means[0])\n",
    "            axs[1].set_xlim(means[0]-means[0]*0.8,means[0]+means[0]*1.1)\n",
    "            if semilogy: axs[1].semilogy()\n",
    "            for diff in list(np.where(np.array(means/means[0]) < 0.1)[0]) + list(np.where(np.array(means/means[0]) > 10)[0]):\n",
    "                axs[0].hist(my_data[my_file][sensors[diff]][\"AccumHits\"], bins[diff], alpha=0.5, histtype=\"step\", color=\"C\"+str(diff),label=sensors[diff]+\" (Mean %0.2f)\"%means[diff])\n",
    "                axs[0].set_xlim(means[diff]-means[diff]*0.8,means[diff]+means[diff]*1.6)\n",
    "                if semilogy: axs[0].semilogy()\n",
    "        else: \n",
    "            fig, axs = plt.subplots(1,1,sharey=True,dpi=dpi)\n",
    "            for s,sensor in enumerate(my_data[my_file]):\n",
    "                axs.hist(my_data[my_file][sensor][\"AccumHits\"], bins[s], alpha=0.5, histtype=\"step\", color=\"C\"+str(s),label=sensor+\" (Mean %0.2f)\"%means[s])\n",
    "        \n",
    "        fig.suptitle(my_file.replace(\".root\",\"\"))\n",
    "        fig.legend()\n",
    "        fig.show()"
   ]
  },
  {
   "cell_type": "markdown",
   "metadata": {},
   "source": [
    "### Define your variables"
   ]
  },
  {
   "cell_type": "code",
   "execution_count": 12,
   "metadata": {},
   "outputs": [],
   "source": [
    "folder    = \"../data/\"\n",
    "folder    = \"/pc/choozdsk01/palomare/GEANT4/megacell_v2/\"\n",
    "sensors   = [\"Arapuca\",\"SiPM1\",\"SiPM2\"]\n",
    "contenido = [\"megacell_40mm_1cm.root\",\"megacell_40mm_2cm.root\",\"megacell_45mm_2cm.root\",\"megacell_50mm_2cm.root\"]\n",
    "debug     = False"
   ]
  },
  {
   "cell_type": "code",
   "execution_count": 14,
   "metadata": {},
   "outputs": [],
   "source": [
    "all_data = []\n",
    "for my_file in contenido: all_data.append(extract_branches(folder=folder,root_file=my_file,sensors=sensors,debug=debug))"
   ]
  },
  {
   "cell_type": "markdown",
   "metadata": {},
   "source": [
    "### DEFINE YOUR GEOMETRY\n",
    "* Unitary vectors\n",
    "* Sensors dimensions"
   ]
  },
  {
   "cell_type": "code",
   "execution_count": 15,
   "metadata": {},
   "outputs": [],
   "source": [
    "# Add unitary vectors\n",
    "sensors_info=dict(); #area and unitary vectors for each configuration file\n",
    "for sensor in sensors:\n",
    "    sensors_info[sensor]={}\n",
    "    for my_file in contenido:\n",
    "        sensors_info[sensor][my_file]={}\n",
    "        if (sensor==\"Arapuca\"): sensors_info[sensor][my_file]=np.array([ 0, 1, 0])\n",
    "        if (sensor==\"SiPM1\"):   sensors_info[sensor][my_file]=np.array([ 1, 0, 0])\n",
    "        if (sensor==\"SiPM2\"):   sensors_info[sensor][my_file]=np.array([-1, 0, 0])\n",
    "\n",
    "sensors_info[\"Arapuca\"][\"Area\"] = 143.75*143.75 #mm**2\n",
    "sensors_info[\"SiPM1\"][\"Area\"]   = 6*6           #mm**2\n",
    "sensors_info[\"SiPM2\"][\"Area\"]   = 6*6           #mm**2\n",
    "\n",
    "\n",
    "for d,data in enumerate(all_data): compute_real_angles(my_data=data,sensors_info=sensors_info,debug=debug)"
   ]
  },
  {
   "cell_type": "code",
   "execution_count": null,
   "metadata": {},
   "outputs": [],
   "source": [
    "for d,my_data in enumerate(all_data): fig_ang = plot_angular_distributions(my_data,dpi=100)"
   ]
  },
  {
   "cell_type": "code",
   "execution_count": null,
   "metadata": {},
   "outputs": [],
   "source": [
    "for d,my_data in enumerate(all_data): fig_ph = plot_photon_density(my_data,sensors_info,dpi=50)"
   ]
  },
  {
   "cell_type": "code",
   "execution_count": null,
   "metadata": {},
   "outputs": [],
   "source": [
    "for d,my_data in enumerate(all_data): fig_acum = plot_acumhits(my_data,dpi=100,semilogy=True,bins=[200,45,45])"
   ]
  }
 ],
 "metadata": {
  "kernelspec": {
   "display_name": "Python 3",
   "language": "python",
   "name": "python3"
  },
  "language_info": {
   "codemirror_mode": {
    "name": "ipython",
    "version": 3
   },
   "file_extension": ".py",
   "mimetype": "text/x-python",
   "name": "python",
   "nbconvert_exporter": "python",
   "pygments_lexer": "ipython3",
   "version": "3.7.3"
  },
  "orig_nbformat": 4
 },
 "nbformat": 4,
 "nbformat_minor": 2
}
