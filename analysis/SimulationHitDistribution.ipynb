{
 "cells": [
  {
   "cell_type": "markdown",
   "metadata": {},
   "source": [
    "# 0. Imports and functions definitions"
   ]
  },
  {
   "cell_type": "code",
   "execution_count": null,
   "metadata": {},
   "outputs": [],
   "source": [
    "from __init__ import *"
   ]
  },
  {
   "cell_type": "markdown",
   "metadata": {},
   "source": [
    "### Define your variables"
   ]
  },
  {
   "cell_type": "code",
   "execution_count": null,
   "metadata": {},
   "outputs": [],
   "source": [
    "folder    = \"/pc/choozdsk01/DATA/GEANT4/megacell_v3/\"\n",
    "sensors   = [\"Arapuca\",\"SiPM1\",\"SiPM2\"]\n",
    "my_file   = \"megacell_v3_ref_3mmBiggerBox.root\"\n",
    "debug     = True"
   ]
  },
  {
   "cell_type": "code",
   "execution_count": null,
   "metadata": {},
   "outputs": [],
   "source": [
    "my_data = extract_branches(folder=folder, root_file=my_file, sensors=sensors, debug=debug)"
   ]
  },
  {
   "cell_type": "code",
   "execution_count": null,
   "metadata": {},
   "outputs": [],
   "source": [
    "filename = list(my_data.keys())[0]\n",
    "data = {\n",
    "  \"SiPM1\": my_data[filename][\"SiPM1\"][\"AccumHits\"],\n",
    "  \"SiPM2\": my_data[filename][\"SiPM2\"][\"AccumHits\"],\n",
    "  \"COMBI\": my_data[filename][\"SiPM1\"][\"AccumHits\"] + my_data[filename][\"SiPM2\"][\"AccumHits\"],\n",
    "  \"XA\": my_data[filename][\"Arapuca\"][\"AccumHits\"]\n",
    "}\n",
    "\n",
    "# Save data as numpy arrays\n",
    "# for key, value in data.items():\n",
    "#   np.save(key, value)\n",
    "\n",
    "xbins = 100\n",
    "density = False\n",
    "\n",
    "fig = make_subplots(rows=2, cols=1, subplot_titles=(\"SiPM1 + SiPM2\", \"Arapuca\"))\n",
    "\n",
    "for idx, (key, value) in enumerate(data.items()):  \n",
    "  if idx == 3:\n",
    "    bins, edges = np.histogram(value, bins=10*xbins, density=True)\n",
    "    bins = bins/np.max(bins)\n",
    "    fig.add_trace(go.Bar(x=edges, y=bins, name=key, opacity=0.8), row=2, col=1)\n",
    "  \n",
    "  else:\n",
    "    bins, edges = np.histogram(value, bins=xbins, density=True)\n",
    "    bins = bins/np.max(bins)\n",
    "    fig.add_trace(go.Bar(x=edges, y=bins, name=key, opacity=0.8), row=1, col=1)\n",
    "\n",
    "fig.update_layout(title_text=filename,\n",
    "  barmode=\"overlay\", bargap=0, template=\"presentation\", height=800, width=800, showlegend=True,\n",
    "  xaxis2_title_text=\"#Photons\",\n",
    "  legend_title_text=\"Sensor\",\n",
    "  legend=dict(x=.01, y=.01, xanchor=\"left\", yanchor=\"bottom\", orientation=\"v\"))\n",
    "\n",
    "fig.update_xaxes(showline=True, showgrid=True, mirror=True)\n",
    "fig.update_yaxes(title_text=\"Norm (a.u.)\", ticks=\"outside\", showline=True, showgrid=True, mirror=True)\n",
    "fig.show()\n",
    "# Save figure\n",
    "fig.write_image(f'../results/images/{filename.split(\".root\")[0]}_AccumHitsDistribution.png')"
   ]
  }
 ],
 "metadata": {
  "kernelspec": {
   "display_name": "Python 3",
   "language": "python",
   "name": "python3"
  },
  "language_info": {
   "codemirror_mode": {
    "name": "ipython",
    "version": 3
   },
   "file_extension": ".py",
   "mimetype": "text/x-python",
   "name": "python",
   "nbconvert_exporter": "python",
   "pygments_lexer": "ipython3",
   "version": "3.6.8"
  },
  "orig_nbformat": 4
 },
 "nbformat": 4,
 "nbformat_minor": 2
}
