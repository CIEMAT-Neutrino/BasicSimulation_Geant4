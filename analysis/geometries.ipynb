{
 "cells": [
  {
   "cell_type": "markdown",
   "metadata": {},
   "source": [
    "Imports & Functions definitions"
   ]
  },
  {
   "cell_type": "code",
   "execution_count": 1,
   "metadata": {},
   "outputs": [
    {
     "name": "stdout",
     "output_type": "stream",
     "text": [
      "Welcome to JupyROOT 6.24/04\n"
     ]
    }
   ],
   "source": [
    "import functions\n",
    "import numpy as np"
   ]
  },
  {
   "cell_type": "code",
   "execution_count": 2,
   "metadata": {},
   "outputs": [
    {
     "ename": "ValueError",
     "evalue": "list.remove(x): x not in list",
     "output_type": "error",
     "traceback": [
      "\u001b[0;31m---------------------------------------------------------------------------\u001b[0m",
      "\u001b[0;31mValueError\u001b[0m                                Traceback (most recent call last)",
      "\u001b[0;32m<ipython-input-2-1047a673423e>\u001b[0m in \u001b[0;36m<module>\u001b[0;34m\u001b[0m\n\u001b[1;32m      2\u001b[0m \u001b[0;31m# path = '/afs/ciemat.es/user/r/rodrigoa/ciemat_sbnd_xarapuca_lab/data/'\u001b[0m\u001b[0;34m\u001b[0m\u001b[0;34m\u001b[0m\u001b[0;34m\u001b[0m\u001b[0m\n\u001b[1;32m      3\u001b[0m \u001b[0mcontenido\u001b[0m\u001b[0;34m,\u001b[0m \u001b[0mdata\u001b[0m \u001b[0;34m=\u001b[0m \u001b[0mfunctions\u001b[0m\u001b[0;34m.\u001b[0m\u001b[0mprocess\u001b[0m\u001b[0;34m(\u001b[0m\u001b[0mpath\u001b[0m\u001b[0;34m)\u001b[0m\u001b[0;34m\u001b[0m\u001b[0;34m\u001b[0m\u001b[0m\n\u001b[0;32m----> 4\u001b[0;31m \u001b[0mcontenido\u001b[0m\u001b[0;34m.\u001b[0m\u001b[0mremove\u001b[0m\u001b[0;34m(\u001b[0m\u001b[0;34m\"compress.C\"\u001b[0m\u001b[0;34m)\u001b[0m\u001b[0;34m\u001b[0m\u001b[0;34m\u001b[0m\u001b[0m\n\u001b[0m",
      "\u001b[0;31mValueError\u001b[0m: list.remove(x): x not in list"
     ]
    }
   ],
   "source": [
    "path = '/afs/ciemat.es/user/p/perezl/Analysis_Laura/ciemat_sbnd_xarapuca_lab/data/'\n",
    "# path = '/afs/ciemat.es/user/r/rodrigoa/ciemat_sbnd_xarapuca_lab/data/'\n",
    "contenido, data = functions.process(path)\n",
    "contenido.remove(\"compress.C\")"
   ]
  },
  {
   "cell_type": "code",
   "execution_count": 3,
   "metadata": {},
   "outputs": [],
   "source": [
    "pos_df, pe_df, pemm2_df = functions.panda_pe(path)"
   ]
  },
  {
   "cell_type": "code",
   "execution_count": 4,
   "metadata": {},
   "outputs": [
    {
     "name": "stdout",
     "output_type": "stream",
     "text": [
      "Positions:\n"
     ]
    },
    {
     "data": {
      "text/html": [
       "<div>\n",
       "<style scoped>\n",
       "    .dataframe tbody tr th:only-of-type {\n",
       "        vertical-align: middle;\n",
       "    }\n",
       "\n",
       "    .dataframe tbody tr th {\n",
       "        vertical-align: top;\n",
       "    }\n",
       "\n",
       "    .dataframe thead th {\n",
       "        text-align: right;\n",
       "    }\n",
       "</style>\n",
       "<table border=\"1\" class=\"dataframe\">\n",
       "  <thead>\n",
       "    <tr style=\"text-align: right;\">\n",
       "      <th></th>\n",
       "      <th>SiPM#1</th>\n",
       "      <th>SiPM#2</th>\n",
       "      <th>XA</th>\n",
       "    </tr>\n",
       "  </thead>\n",
       "  <tbody>\n",
       "    <tr>\n",
       "      <th>FinalGeo_VUV.root</th>\n",
       "      <td>[fZ, 46.3]</td>\n",
       "      <td>[fZ, 59.7]</td>\n",
       "      <td>[fZ, 53.0]</td>\n",
       "    </tr>\n",
       "    <tr>\n",
       "      <th>FinalGeo_Vis.root</th>\n",
       "      <td>[fY, 48.3]</td>\n",
       "      <td>[fY, 61.7]</td>\n",
       "      <td>[fY, -2]</td>\n",
       "    </tr>\n",
       "  </tbody>\n",
       "</table>\n",
       "</div>"
      ],
      "text/plain": [
       "                       SiPM#1      SiPM#2          XA\n",
       "FinalGeo_VUV.root  [fZ, 46.3]  [fZ, 59.7]  [fZ, 53.0]\n",
       "FinalGeo_Vis.root  [fY, 48.3]  [fY, 61.7]    [fY, -2]"
      ]
     },
     "execution_count": 4,
     "metadata": {},
     "output_type": "execute_result"
    }
   ],
   "source": [
    "print('Positions:')\n",
    "pos_df"
   ]
  },
  {
   "cell_type": "code",
   "execution_count": 5,
   "metadata": {},
   "outputs": [
    {
     "name": "stdout",
     "output_type": "stream",
     "text": [
      "#PE:\n"
     ]
    },
    {
     "data": {
      "text/html": [
       "<div>\n",
       "<style scoped>\n",
       "    .dataframe tbody tr th:only-of-type {\n",
       "        vertical-align: middle;\n",
       "    }\n",
       "\n",
       "    .dataframe tbody tr th {\n",
       "        vertical-align: top;\n",
       "    }\n",
       "\n",
       "    .dataframe thead th {\n",
       "        text-align: right;\n",
       "    }\n",
       "</style>\n",
       "<table border=\"1\" class=\"dataframe\">\n",
       "  <thead>\n",
       "    <tr style=\"text-align: right;\">\n",
       "      <th></th>\n",
       "      <th>SiPM#1</th>\n",
       "      <th>SiPM#2</th>\n",
       "      <th>XA</th>\n",
       "    </tr>\n",
       "  </thead>\n",
       "  <tbody>\n",
       "    <tr>\n",
       "      <th>FinalGeo_VUV.root</th>\n",
       "      <td>19142</td>\n",
       "      <td>19149</td>\n",
       "      <td>1321868</td>\n",
       "    </tr>\n",
       "    <tr>\n",
       "      <th>FinalGeo_Vis.root</th>\n",
       "      <td>7822</td>\n",
       "      <td>7769</td>\n",
       "      <td>1673033</td>\n",
       "    </tr>\n",
       "  </tbody>\n",
       "</table>\n",
       "</div>"
      ],
      "text/plain": [
       "                  SiPM#1 SiPM#2       XA\n",
       "FinalGeo_VUV.root  19142  19149  1321868\n",
       "FinalGeo_Vis.root   7822   7769  1673033"
      ]
     },
     "execution_count": 5,
     "metadata": {},
     "output_type": "execute_result"
    }
   ],
   "source": [
    "print('#PE:')\n",
    "pe_df"
   ]
  },
  {
   "cell_type": "code",
   "execution_count": 6,
   "metadata": {},
   "outputs": [
    {
     "name": "stdout",
     "output_type": "stream",
     "text": [
      "#PEmm2:\n"
     ]
    },
    {
     "data": {
      "text/html": [
       "<div>\n",
       "<style scoped>\n",
       "    .dataframe tbody tr th:only-of-type {\n",
       "        vertical-align: middle;\n",
       "    }\n",
       "\n",
       "    .dataframe tbody tr th {\n",
       "        vertical-align: top;\n",
       "    }\n",
       "\n",
       "    .dataframe thead th {\n",
       "        text-align: right;\n",
       "    }\n",
       "</style>\n",
       "<table border=\"1\" class=\"dataframe\">\n",
       "  <thead>\n",
       "    <tr style=\"text-align: right;\">\n",
       "      <th></th>\n",
       "      <th>SiPM#1</th>\n",
       "      <th>SiPM#2</th>\n",
       "      <th>XA</th>\n",
       "    </tr>\n",
       "  </thead>\n",
       "  <tbody>\n",
       "    <tr>\n",
       "      <th>FinalGeo_VUV.root</th>\n",
       "      <td>531.722</td>\n",
       "      <td>531.917</td>\n",
       "      <td>179.846</td>\n",
       "    </tr>\n",
       "    <tr>\n",
       "      <th>FinalGeo_Vis.root</th>\n",
       "      <td>217.278</td>\n",
       "      <td>215.806</td>\n",
       "      <td>227.624</td>\n",
       "    </tr>\n",
       "  </tbody>\n",
       "</table>\n",
       "</div>"
      ],
      "text/plain": [
       "                    SiPM#1   SiPM#2       XA\n",
       "FinalGeo_VUV.root  531.722  531.917  179.846\n",
       "FinalGeo_Vis.root  217.278  215.806  227.624"
      ]
     },
     "execution_count": 6,
     "metadata": {},
     "output_type": "execute_result"
    }
   ],
   "source": [
    "print(r'#PEmm2:')\n",
    "pemm2_df"
   ]
  },
  {
   "cell_type": "code",
   "execution_count": 7,
   "metadata": {},
   "outputs": [
    {
     "ename": "IndexError",
     "evalue": "list index out of range",
     "output_type": "error",
     "traceback": [
      "\u001b[0;31m---------------------------------------------------------------------------\u001b[0m",
      "\u001b[0;31mIndexError\u001b[0m                                Traceback (most recent call last)",
      "\u001b[0;32m<ipython-input-7-c638b0dd737a>\u001b[0m in \u001b[0;36m<module>\u001b[0;34m\u001b[0m\n\u001b[1;32m      1\u001b[0m \u001b[0;31m#pruebas#\u001b[0m\u001b[0;34m\u001b[0m\u001b[0;34m\u001b[0m\u001b[0;34m\u001b[0m\u001b[0m\n\u001b[0;32m----> 2\u001b[0;31m \u001b[0mprint\u001b[0m\u001b[0;34m(\u001b[0m\u001b[0;34m\"SiPM#1:\"\u001b[0m\u001b[0;34m,\u001b[0m \u001b[0mfunctions\u001b[0m\u001b[0;34m.\u001b[0m\u001b[0mnumber_pe\u001b[0m\u001b[0;34m(\u001b[0m\u001b[0mdata\u001b[0m\u001b[0;34m[\u001b[0m\u001b[0mcontenido\u001b[0m\u001b[0;34m[\u001b[0m\u001b[0;36m2\u001b[0m\u001b[0;34m]\u001b[0m\u001b[0;34m]\u001b[0m\u001b[0;34m,\u001b[0m \u001b[0;34m'fZ'\u001b[0m\u001b[0;34m,\u001b[0m \u001b[0;36m18.0\u001b[0m\u001b[0;34m)\u001b[0m\u001b[0;34m)\u001b[0m\u001b[0;34m\u001b[0m\u001b[0;34m\u001b[0m\u001b[0m\n\u001b[0m\u001b[1;32m      3\u001b[0m \u001b[0mprint\u001b[0m\u001b[0;34m(\u001b[0m\u001b[0;34m\"SiPM#2:\"\u001b[0m\u001b[0;34m,\u001b[0m \u001b[0mfunctions\u001b[0m\u001b[0;34m.\u001b[0m\u001b[0mnumber_pe\u001b[0m\u001b[0;34m(\u001b[0m\u001b[0mdata\u001b[0m\u001b[0;34m[\u001b[0m\u001b[0mcontenido\u001b[0m\u001b[0;34m[\u001b[0m\u001b[0;36m2\u001b[0m\u001b[0;34m]\u001b[0m\u001b[0;34m]\u001b[0m\u001b[0;34m,\u001b[0m \u001b[0;34m'fZ'\u001b[0m\u001b[0;34m,\u001b[0m \u001b[0;34m-\u001b[0m\u001b[0;36m18.0\u001b[0m\u001b[0;34m)\u001b[0m\u001b[0;34m)\u001b[0m\u001b[0;34m\u001b[0m\u001b[0;34m\u001b[0m\u001b[0m\n\u001b[1;32m      4\u001b[0m \u001b[0mprint\u001b[0m\u001b[0;34m(\u001b[0m\u001b[0;34m\"XA:\"\u001b[0m\u001b[0;34m,\u001b[0m \u001b[0mfunctions\u001b[0m\u001b[0;34m.\u001b[0m\u001b[0mnumber_pe\u001b[0m\u001b[0;34m(\u001b[0m\u001b[0mdata\u001b[0m\u001b[0;34m[\u001b[0m\u001b[0mcontenido\u001b[0m\u001b[0;34m[\u001b[0m\u001b[0;36m2\u001b[0m\u001b[0;34m]\u001b[0m\u001b[0;34m]\u001b[0m\u001b[0;34m,\u001b[0m \u001b[0;34m'fZ'\u001b[0m\u001b[0;34m,\u001b[0m \u001b[0;36m53\u001b[0m\u001b[0;34m)\u001b[0m\u001b[0;34m)\u001b[0m\u001b[0;34m\u001b[0m\u001b[0;34m\u001b[0m\u001b[0m\n\u001b[1;32m      5\u001b[0m \u001b[0;31m# plt.scatter(np.arange(len(data[contenido[-1]]['fZ'])),data[contenido[-1]]['fZ'])\u001b[0m\u001b[0;34m\u001b[0m\u001b[0;34m\u001b[0m\u001b[0;34m\u001b[0m\u001b[0m\n",
      "\u001b[0;31mIndexError\u001b[0m: list index out of range"
     ]
    }
   ],
   "source": [
    "#pruebas#\n",
    "print(\"SiPM#1:\", functions.number_pe(data[contenido[2]], 'fZ', 18.0))\n",
    "print(\"SiPM#2:\", functions.number_pe(data[contenido[2]], 'fZ', -18.0))\n",
    "print(\"XA:\", functions.number_pe(data[contenido[2]], 'fZ', 53))\n",
    "# plt.scatter(np.arange(len(data[contenido[-1]]['fZ'])),data[contenido[-1]]['fZ'])\n"
   ]
  },
  {
   "cell_type": "code",
   "execution_count": null,
   "metadata": {},
   "outputs": [],
   "source": [
    "# pemm2 = functions.nice_plots(1, 'SiPM#1', (100, 1400), path)"
   ]
  },
  {
   "cell_type": "code",
   "execution_count": null,
   "metadata": {},
   "outputs": [],
   "source": [
    "# functions.nice_plots(1, 'SiPM#2', (100, 1400), path)"
   ]
  },
  {
   "cell_type": "code",
   "execution_count": null,
   "metadata": {},
   "outputs": [],
   "source": [
    "# functions.nice_plots(1, 'XA', (100, 400), path)"
   ]
  },
  {
   "cell_type": "code",
   "execution_count": 9,
   "metadata": {},
   "outputs": [
    {
     "data": {
      "image/png": "[encoded data removed]",
      "text/plain": [
       "<Figure size 864x720 with 1 Axes>"
      ]
     },
     "metadata": {
      "needs_background": "light"
     },
     "output_type": "display_data"
    },
    {
     "data": {
      "text/html": [
       "<div>\n",
       "<style scoped>\n",
       "    .dataframe tbody tr th:only-of-type {\n",
       "        vertical-align: middle;\n",
       "    }\n",
       "\n",
       "    .dataframe tbody tr th {\n",
       "        vertical-align: top;\n",
       "    }\n",
       "\n",
       "    .dataframe thead th {\n",
       "        text-align: right;\n",
       "    }\n",
       "</style>\n",
       "<table border=\"1\" class=\"dataframe\">\n",
       "  <thead>\n",
       "    <tr style=\"text-align: right;\">\n",
       "      <th></th>\n",
       "      <th>SiPM#1</th>\n",
       "      <th>SiPM#2</th>\n",
       "      <th>XA</th>\n",
       "    </tr>\n",
       "  </thead>\n",
       "  <tbody>\n",
       "    <tr>\n",
       "      <th>FinalGeo_VUV.root</th>\n",
       "      <td>531.722</td>\n",
       "      <td>531.917</td>\n",
       "      <td>179.846</td>\n",
       "    </tr>\n",
       "    <tr>\n",
       "      <th>FinalGeo_Vis.root</th>\n",
       "      <td>217.278</td>\n",
       "      <td>215.806</td>\n",
       "      <td>227.624</td>\n",
       "    </tr>\n",
       "  </tbody>\n",
       "</table>\n",
       "</div>"
      ],
      "text/plain": [
       "                    SiPM#1   SiPM#2       XA\n",
       "FinalGeo_VUV.root  531.722  531.917  179.846\n",
       "FinalGeo_Vis.root  217.278  215.806  227.624"
      ]
     },
     "execution_count": 9,
     "metadata": {},
     "output_type": "execute_result"
    }
   ],
   "source": [
    "functions.nice_plots((0,1,2),('SiPM#1','SiPM#2','XA'), (100, 600), path)"
   ]
  },
  {
   "cell_type": "code",
   "execution_count": null,
   "metadata": {},
   "outputs": [
    {
     "name": "stdout",
     "output_type": "stream",
     "text": [
      "---- Geo1_orig ----\n",
      "SiPM1 (%):  9.285882630214466\n",
      "SiPM1 (%):  7.520150246498164\n",
      "SiPM1 (%):  2.0578556751801\n",
      "---- Geo1_ancho ----\n",
      "SiPM1 (%):  3.103680215239745\n",
      "SiPM1 (%):  2.595654681791963\n",
      "SiPM1 (%):  1.9377677334141137\n",
      "---- Geo2_ancho ----\n",
      "SiPM1 (%):  2.862745098039227\n",
      "SiPM1 (%):  3.0102932608273365\n",
      "SiPM1 (%):  1.8828936534444833\n"
     ]
    }
   ],
   "source": [
    "sensors = [\"SiPM1 (%): \", \"SiPM2 (%): \", \"XArapuca (%): \"]\n",
    "\n",
    "print(\"---- Geo1_orig ----\")\n",
    "th = 1\n",
    "exp= 2\n",
    "\n",
    "for i in np.arange(3):\n",
    "    print(sensors[0], 100*np.abs((pemm2_df.iloc[th,i]-pemm2_df.iloc[exp,i])/pemm2_df.iloc[th,i]))\n",
    "\n",
    "print(\"---- Geo1_ancho ----\")\n",
    "th = 3\n",
    "exp= 0\n",
    "\n",
    "for i in np.arange(3):\n",
    "    print(sensors[0], 100*np.abs((pemm2_df.iloc[th,i]-pemm2_df.iloc[exp,i])/pemm2_df.iloc[th,i]))\n",
    "\n",
    "print(\"---- Geo2_ancho ----\")\n",
    "th = 5\n",
    "exp= 4\n",
    "\n",
    "for i in np.arange(3):\n",
    "    print(sensors[0], 100*np.abs((pemm2_df.iloc[th,i]-pemm2_df.iloc[exp,i])/pemm2_df.iloc[th,i]))"
   ]
  }
 ],
 "metadata": {
  "kernelspec": {
   "display_name": "Python 3",
   "language": "python",
   "name": "python3"
  },
  "language_info": {
   "codemirror_mode": {
    "name": "ipython",
    "version": 3
   },
   "file_extension": ".py",
   "mimetype": "text/x-python",
   "name": "python",
   "nbconvert_exporter": "python",
   "pygments_lexer": "ipython3",
   "version": "3.6.8"
  },
  "vscode": {
   "interpreter": {
    "hash": "916dbcbb3f70747c44a77c7bcd40155683ae19c65e1c03b4aa3499c5328201f1"
   }
  }
 },
 "nbformat": 4,
 "nbformat_minor": 2
}
