{
 "cells": [
  {
   "cell_type": "markdown",
   "metadata": {},
   "source": [
    "# 0. Imports and functions definitions"
   ]
  },
  {
   "cell_type": "code",
   "execution_count": null,
   "metadata": {},
   "outputs": [],
   "source": [
    "from __init__ import *"
   ]
  },
  {
   "cell_type": "markdown",
   "metadata": {},
   "source": [
    "### Define your variables"
   ]
  },
  {
   "cell_type": "code",
   "execution_count": null,
   "metadata": {},
   "outputs": [],
   "source": [
    "folder    = \"/pc/choozdsk01/DATA/GEANT4/megacell_v3/\"\n",
    "sensors   = [\"Arapuca\",\"SiPM1\",\"SiPM2\"]\n",
    "contenido = [\"megacell_v3_ref_3mmBiggerBox.root\"]\n",
    "debug     = True"
   ]
  },
  {
   "cell_type": "code",
   "execution_count": null,
   "metadata": {},
   "outputs": [],
   "source": [
    "all_data = []\n",
    "for my_file in contenido: all_data.append(extract_branches(folder=folder, root_file=my_file, sensors=sensors, debug=debug))"
   ]
  },
  {
   "cell_type": "markdown",
   "metadata": {},
   "source": [
    "### Define your geometry and sensors\n",
    "Unitary vectors:\n",
    " - x = [1,0,0]\n",
    " - y = [0,1,0]\n",
    " - z = [0,0,1]\n",
    "\n",
    "Sensors dimensions."
   ]
  },
  {
   "cell_type": "code",
   "execution_count": null,
   "metadata": {},
   "outputs": [],
   "source": [
    "# Add unitary normal vectors to each sensor\n",
    "sensors_info=dict()\n",
    "for sensor in sensors:\n",
    "    sensors_info[sensor]={}\n",
    "    for my_file in contenido:\n",
    "        sensors_info[sensor][my_file]={}\n",
    "        if (sensor==\"Arapuca\"): sensors_info[sensor][my_file]=np.array([ 0, 0, 1])\n",
    "        if (sensor==\"SiPM1\"):   sensors_info[sensor][my_file]=np.array([ 0, 1, 0])\n",
    "        if (sensor==\"SiPM2\"):   sensors_info[sensor][my_file]=np.array([ 0,-1, 0])\n",
    "\n",
    "sensors_info[\"Arapuca\"][\"Area\"] = 143.75*143.75 # mm²\n",
    "sensors_info[\"SiPM1\"][\"Area\"]   = 6*6           # mm²\n",
    "sensors_info[\"SiPM2\"][\"Area\"]   = 6*6           # mm²\n",
    "\n",
    "for d,data in enumerate(all_data): compute_real_angles(my_data=data,sensors_info=sensors_info,debug=debug)"
   ]
  },
  {
   "cell_type": "code",
   "execution_count": null,
   "metadata": {},
   "outputs": [],
   "source": [
    "for coordinate in [\"X\",\"Y\",\"Z\"]:\n",
    "    for d,my_data in enumerate(all_data):\n",
    "            fig_ang = plot_variable_distributions(my_data,coordinate,stats=(True,False),probability=False,percentile=(0,1),log=(False,True),dpi=100,save=True,debug=False)\n",
    "            plt.show()"
   ]
  },
  {
   "cell_type": "code",
   "execution_count": null,
   "metadata": {},
   "outputs": [],
   "source": [
    "for d,my_data in enumerate(all_data):\n",
    "    fig_ang = plot_variable_distributions(my_data,\"FixedIncidenceAngleDegree\",stats=(True,False),probability=True,percentile=(0,1),log=(False,False),dpi=100,save=True,debug=False)\n",
    "    plt.show()"
   ]
  },
  {
   "cell_type": "code",
   "execution_count": null,
   "metadata": {},
   "outputs": [],
   "source": [
    "for d,my_data in enumerate(all_data):\n",
    "    fig_hit = plot_variable_distributions(my_data,\"AccumHits\",stats=(True,False),probability=True,dpi=100,save=True,debug=False)\n",
    "    fig_hit.show()"
   ]
  }
 ],
 "metadata": {
  "kernelspec": {
   "display_name": "Python 3",
   "language": "python",
   "name": "python3"
  },
  "language_info": {
   "codemirror_mode": {
    "name": "ipython",
    "version": 3
   },
   "file_extension": ".py",
   "mimetype": "text/x-python",
   "name": "python",
   "nbconvert_exporter": "python",
   "pygments_lexer": "ipython3",
   "version": "3.6.8"
  },
  "orig_nbformat": 4
 },
 "nbformat": 4,
 "nbformat_minor": 2
}
