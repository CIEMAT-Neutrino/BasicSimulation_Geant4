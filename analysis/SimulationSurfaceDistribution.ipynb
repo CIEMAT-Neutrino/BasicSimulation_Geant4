{
 "cells": [
  {
   "cell_type": "markdown",
   "metadata": {},
   "source": [
    "# 0. Imports and functions definitions"
   ]
  },
  {
   "cell_type": "code",
   "execution_count": null,
   "metadata": {},
   "outputs": [],
   "source": [
    "from __init__ import *"
   ]
  },
  {
   "cell_type": "markdown",
   "metadata": {},
   "source": [
    "### Define your variables"
   ]
  },
  {
   "cell_type": "code",
   "execution_count": null,
   "metadata": {},
   "outputs": [],
   "source": [
    "folder    = \"/pc/choozdsk01/DATA/GEANT4/megacell_v3/\"\n",
    "sensors   = [\"Arapuca\",\"SiPM1\",\"SiPM2\"]\n",
    "contenido = [\"megacell_v3_ref_3mmBiggerBox.root\"]\n",
    "debug     = True"
   ]
  },
  {
   "cell_type": "code",
   "execution_count": null,
   "metadata": {},
   "outputs": [],
   "source": [
    "all_data = []\n",
    "for my_file in contenido: all_data.append(extract_branches(folder=folder, root_file=my_file, sensors=sensors, debug=debug))"
   ]
  },
  {
   "cell_type": "code",
   "execution_count": null,
   "metadata": {},
   "outputs": [],
   "source": [
    "surface = {\"Arapuca\": [\"X\",\"Z\"], \"SiPM1\": [\"Y\",\"Z\"], \"SiPM2\": [\"Y\",\"Z\"]}\n",
    "# surface = {\"Arapuca\": [\"X\",\"Z\"]}\n",
    "for d,my_data in enumerate(all_data): \n",
    "    fig = plot_photon_density(my_data,surface,density=True,bins=50,figsize=(20,5),dpi=150,save=True,debug=True)\n",
    "\n",
    "# Make font size bigger for matplotlib plots\n",
    "plt.rcParams.update({'font.size': 18})\n",
    "fig.show()\n",
    "# Save figure\n",
    "fig.savefig(f\"../results/images/{my_file.split('.root')[0]}_SurfaceDistribution.png\",dpi=100)"
   ]
  }
 ],
 "metadata": {
  "kernelspec": {
   "display_name": "Python 3",
   "language": "python",
   "name": "python3"
  },
  "language_info": {
   "codemirror_mode": {
    "name": "ipython",
    "version": 3
   },
   "file_extension": ".py",
   "mimetype": "text/x-python",
   "name": "python",
   "nbconvert_exporter": "python",
   "pygments_lexer": "ipython3",
   "version": "3.9.18"
  },
  "orig_nbformat": 4
 },
 "nbformat": 4,
 "nbformat_minor": 2
}
